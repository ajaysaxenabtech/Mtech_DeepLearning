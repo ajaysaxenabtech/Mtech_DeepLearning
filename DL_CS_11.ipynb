{
 "cells": [
  {
   "cell_type": "markdown",
   "id": "57a564d5",
   "metadata": {},
   "source": [
    "### Flattening"
   ]
  },
  {
   "cell_type": "code",
   "execution_count": 1,
   "id": "3c86b9f6",
   "metadata": {},
   "outputs": [
    {
     "name": "stdout",
     "output_type": "stream",
     "text": [
      "Model: \"model\"\n",
      "_________________________________________________________________\n",
      " Layer (type)                Output Shape              Param #   \n",
      "=================================================================\n",
      " input_1 (InputLayer)        [(None, 32, 32, 64)]      0         \n",
      "                                                                 \n",
      " max_pooling2d (MaxPooling2D  (None, 16, 16, 64)       0         \n",
      " )                                                               \n",
      "                                                                 \n",
      " flatten (Flatten)           (None, 16384)             0         \n",
      "                                                                 \n",
      "=================================================================\n",
      "Total params: 0\n",
      "Trainable params: 0\n",
      "Non-trainable params: 0\n",
      "_________________________________________________________________\n"
     ]
    }
   ],
   "source": [
    "import tensorflow as tf\n",
    "from tensorflow.keras.layers import Input, MaxPooling2D, Flatten\n",
    "\n",
    "# Assuming input feature maps of shape (batch_size, 32, 32, 64)\n",
    "input_tensor = Input(shape=(32, 32, 64))\n",
    "\n",
    "# Apply Max Pooling with a 2x2 window and stride of 2\n",
    "pooled_tensor = MaxPooling2D(pool_size=(2, 2))(input_tensor)\n",
    "\n",
    "# Flatten the output of the max-pooling layer\n",
    "flattened_tensor = Flatten()(pooled_tensor)\n",
    "\n",
    "model = tf.keras.Model(inputs=input_tensor, outputs=flattened_tensor)\n",
    "\n",
    "# Print model summary to show the effect of max-pooling and flattening\n",
    "model.summary()\n"
   ]
  },
  {
   "cell_type": "code",
   "execution_count": null,
   "id": "93879487",
   "metadata": {},
   "outputs": [],
   "source": []
  }
 ],
 "metadata": {
  "kernelspec": {
   "display_name": "Python 3 (ipykernel)",
   "language": "python",
   "name": "python3"
  },
  "language_info": {
   "codemirror_mode": {
    "name": "ipython",
    "version": 3
   },
   "file_extension": ".py",
   "mimetype": "text/x-python",
   "name": "python",
   "nbconvert_exporter": "python",
   "pygments_lexer": "ipython3",
   "version": "3.10.9"
  }
 },
 "nbformat": 4,
 "nbformat_minor": 5
}
